{
 "cells": [
  {
   "cell_type": "code",
   "execution_count": 2,
   "metadata": {},
   "outputs": [
    {
     "name": "stdout",
     "output_type": "stream",
     "text": [
      "Sorted ages: [19, 19, 20, 22, 24, 24, 24, 25, 25, 26]\n",
      "\n",
      "Min age: 19\n",
      "\n",
      "Max age: 26\n",
      "\n",
      "After adding Min age and Max age again to the list: [19, 19, 20, 22, 24, 24, 24, 25, 25, 26, 19, 26]\n",
      "\n",
      "median age: 24.0\n",
      "\n",
      "average age: 22.75\n",
      "\n",
      "Range of the ages: 7\n"
     ]
    }
   ],
   "source": [
    "import statistics\n",
    "age = [19, 22, 19, 24, 20, 25, 26, 24, 25, 24]\n",
    "#sort the given list\n",
    "age.sort()\n",
    "arr_len = len(age)\n",
    "#find the minimum and maximum\n",
    "min_age = age[0]\n",
    "max_age = age[-1]\n",
    "print(\"Sorted ages:\", age)\n",
    "print(\"\\nMin age:\", min_age)\n",
    "print(\"\\nMax age:\",max_age)\n",
    "#adding minimum maximum to the list\n",
    "age.extend([min_age,max_age])\n",
    "print(\"\\nAfter adding Min age and Max age again to the list:\",age)\n",
    "n = len(age)\n",
    "#Finding median age\n",
    "print(\"\\nmedian age:\", statistics.median(age))\n",
    "#Finding average age\n",
    "avg = sum(age)/n\n",
    "print(\"\\naverage age:\",avg)\n",
    "age.sort()\n",
    "#finding range of ages\n",
    "print(\"\\nRange of the ages:\",age[-1]-age[0])\n"
   ]
  },
  {
   "cell_type": "code",
   "execution_count": null,
   "metadata": {},
   "outputs": [],
   "source": []
  },
  {
   "cell_type": "code",
   "execution_count": 3,
   "metadata": {},
   "outputs": [
    {
     "name": "stdout",
     "output_type": "stream",
     "text": [
      "Dog dictionary: {'name': 'Champion', 'color': 'White', 'breed': 'Labrador', 'legs': 4, 'age': 3}\n",
      "\n",
      "Student dictionary: {'first_name': 'Jake', 'last_name': 'Peralta', 'gender': 'Male', 'age': 25, 'marital_status': 'Single', 'skills': ['JavaScript', 'Python'], 'country': 'USA', 'city': 'Brooklyn', 'address': 'Church street'}\n",
      "\n",
      "Length of student dictionary: 9\n",
      "\n",
      "Skills: ['JavaScript', 'Python']\n",
      "\n",
      "Data type of skills: <class 'list'>\n",
      "\n",
      "Modified skills: ['JavaScript', 'Python', 'Java', 'C#']\n",
      "\n",
      "Student dictionary keys: ['first_name', 'last_name', 'gender', 'age', 'marital_status', 'skills', 'country', 'city', 'address']\n",
      "\n",
      "Student dictionary values: ['Jake', 'Peralta', 'Male', 25, 'Single', ['JavaScript', 'Python', 'Java', 'C#'], 'USA', 'Brooklyn', 'Church street']\n"
     ]
    }
   ],
   "source": [
    "dog = {}\n",
    "\n",
    "# Add name, color, breed, legs, age to the dog dictionary\n",
    "dog['name'] = 'Champion'\n",
    "dog['color'] = 'White'\n",
    "dog['breed'] = 'Labrador'\n",
    "dog['legs'] = 4\n",
    "dog['age'] = 3\n",
    "print(\"Dog dictionary:\", dog)\n",
    "\n",
    "student = {\n",
    "    'first_name': 'Jake',\n",
    "    'last_name': 'Peralta',\n",
    "    'gender': 'Male',\n",
    "    'age': 25,\n",
    "    'marital_status': 'Single',\n",
    "    'skills': ['JavaScript', 'Python'],\n",
    "    'country': 'USA',\n",
    "    'city': 'Brooklyn',\n",
    "    'address': 'Church street'\n",
    "}\n",
    "print(\"\\nStudent dictionary:\", student)\n",
    "\n",
    "# Get the length of the student dictionary\n",
    "student_len = len(student)\n",
    "print(\"\\nLength of student dictionary:\", student_len)\n",
    "\n",
    "# Get the value of skills and check the data type, it should be a list\n",
    "skills = student['skills']\n",
    "print(\"\\nSkills:\", skills)\n",
    "print(\"\\nData type of skills:\", type(skills))\n",
    "\n",
    "# Modify the skills values by adding one or two skills\n",
    "student['skills'].extend(['Java', 'C#'])\n",
    "print(\"\\nModified skills:\", student['skills'])\n",
    "\n",
    "# Get the dictionary keys as a list\n",
    "student_keys = list(student.keys())\n",
    "print(\"\\nStudent dictionary keys:\", student_keys)\n",
    "\n",
    "# Get the dictionary values as a list\n",
    "student_values = list(student.values())\n",
    "print(\"\\nStudent dictionary values:\", student_values)"
   ]
  },
  {
   "cell_type": "code",
   "execution_count": 4,
   "metadata": {},
   "outputs": [
    {
     "name": "stdout",
     "output_type": "stream",
     "text": [
      "Siblings: ('Sara', 'Lara', 'Garry', 'Barry')\n",
      "\n",
      "Number of siblings: 4\n",
      "\n",
      "Family members: ('Sara', 'Lara', 'Garry', 'Barry', 'Father', 'Mother')\n"
     ]
    }
   ],
   "source": [
    "# Create a tuple containing names of your sisters and your brothers (imaginary siblings are fine)\n",
    "sisters = (\"Sara\", \"Lara\")\n",
    "brothers = (\"Garry\", \"Barry\")\n",
    "\n",
    "# Join brothers and sisters tuples and assign it to siblings\n",
    "siblings = sisters + brothers\n",
    "print(\"Siblings:\", siblings)\n",
    "\n",
    "# How many siblings do you have?\n",
    "siblings_count = len(siblings)\n",
    "print(\"\\nNumber of siblings:\", siblings_count)\n",
    "\n",
    "# Modify the siblings tuple and add the name of your father and mother and assign it to family_members\n",
    "# Note: Tuples are immutable, so we cannot modify them directly. Instead, we create a new tuple.\n",
    "family_members = siblings + (\"Father\", \"Mother\")\n",
    "print(\"\\nFamily members:\", family_members)"
   ]
  },
  {
   "cell_type": "code",
   "execution_count": null,
   "metadata": {},
   "outputs": [],
   "source": [
    "it_companies = {'Facebook', 'Google', 'Microsoft', 'Apple', 'IBM', 'Oracle', 'Amazon'}\n",
    "A = {19, 22, 24, 20, 25, 26}\n",
    "B = {19, 22, 20, 25, 26, 24, 28, 27}\n",
    "age = [22, 19, 24, 25, 26, 24, 25, 24]\n",
    "\n",
    "# Find the length of the set it_companies\n",
    "length_it_companies = len(it_companies)\n",
    "print(\"Length of it_companies:\", length_it_companies)\n",
    "\n",
    "# Add 'Twitter' to it_companies\n",
    "it_companies.add('Twitter')\n",
    "print(\"\\nit_companies after adding Twitter:\", it_companies)\n",
    "\n",
    "# Insert multiple IT companies at once to the set it_companies\n",
    "it_companies.update({'Atlassian', 'Salesforce', 'Pega'})\n",
    "print(\"\\nit_companies after adding multiple companies:\", it_companies)\n",
    "\n",
    "# Remove one of the companies from the set it_companies\n",
    "it_companies.remove('Facebook')  # Remove 'Oracle' as an example\n",
    "print(\"\\nit_companies after removing Facebook:\", it_companies)\n",
    "\n",
    "# Difference between remove and discard:\n",
    "# - remove: Raises a KeyError if the item is not found.\n",
    "# - discard: Does not raise an error if the item is not found.\n",
    "\n",
    "# Join A and B\n",
    "A_union_B = A.union(B)\n",
    "print(\"\\nA union B:\", A_union_B)\n",
    "\n",
    "# Find A intersection B\n",
    "A_intersection_B = A.intersection(B)\n",
    "print(\"\\nA intersection B:\", A_intersection_B)\n",
    "\n",
    "# Is A subset of B\n",
    "A_subset_B = A.issubset(B)\n",
    "print(\"\\nIs A subset of B:\", A_subset_B)\n",
    "\n",
    "# Are A and B disjoint sets\n",
    "A_disjoint_B = A.isdisjoint(B)\n",
    "print(\"\\nAre A and B disjoint sets:\", A_disjoint_B)\n",
    "\n",
    "# Join A with B and B with A\n",
    "A_union_B = A.union(B)\n",
    "B_union_A = B.union(A)\n",
    "print(\"\\nA union B:\", A_union_B)\n",
    "print(\"\\nB union A:\", B_union_A)\n",
    "\n",
    "# What is the symmetric difference between A and B\n",
    "A_symmetric_difference_B = A.symmetric_difference(B)\n",
    "print(\"\\nSymmetric difference between A and B:\", A_symmetric_difference_B)\n",
    "\n",
    "# Delete the sets completely\n",
    "del A\n",
    "del B\n",
    "\n",
    "# Convert the ages list to a set and compare the length of the list and the set\n",
    "age_set = set(age)\n",
    "print(\"\\nLength of age list:\", len(age))\n",
    "print(\"\\nLength of age set:\", len(age_set))"
   ]
  },
  {
   "cell_type": "code",
   "execution_count": 5,
   "metadata": {},
   "outputs": [
    {
     "name": "stdout",
     "output_type": "stream",
     "text": [
      "Area of the circle with radius 30 meters: 2827.4333882308138\n",
      "\n",
      "Circumference of the circle with radius 30 meters: 188.49555921538757\n",
      "\n",
      "Area of the circle with user-provided radius: 28.274333882308138\n"
     ]
    }
   ],
   "source": [
    "import math\n",
    "\n",
    "radius = 30\n",
    "\n",
    "# Calculate the area of the circle\n",
    "_area_of_circle_ = math.pi * (radius ** 2)\n",
    "print(\"Area of the circle with radius 30 meters:\", _area_of_circle_)\n",
    "\n",
    "# Calculate the circumference of the circle\n",
    "_circum_of_circle_ = 2 * math.pi * radius\n",
    "print(\"\\nCircumference of the circle with radius 30 meters:\", _circum_of_circle_)\n",
    "\n",
    "# Take radius as user input and calculate the area\n",
    "user_radius = float(input(\"Enter the radius of the circle: \"))\n",
    "user_area_of_circle = math.pi * (user_radius ** 2)\n",
    "print(\"\\nArea of the circle with user-provided radius:\", user_area_of_circle)"
   ]
  },
  {
   "cell_type": "code",
   "execution_count": 6,
   "metadata": {},
   "outputs": [
    {
     "name": "stdout",
     "output_type": "stream",
     "text": [
      "Number of unique words: 10\n"
     ]
    }
   ],
   "source": [
    "sentence = \"I am a teacher and I love to inspire and teach people\"\n",
    "\n",
    "# Split the sentence into words\n",
    "words = sentence.split()\n",
    "\n",
    "# Convert the list of words to a set to get unique words\n",
    "unique_words = set(words)\n",
    "\n",
    "# Find the number of unique words\n",
    "print(\"Number of unique words:\", len(unique_words))"
   ]
  },
  {
   "cell_type": "code",
   "execution_count": 7,
   "metadata": {},
   "outputs": [
    {
     "name": "stdout",
     "output_type": "stream",
     "text": [
      "Name\t\tAge\tCountry\tCity\n",
      "Asabeneh\t250\tFinland\tHelsinki\n"
     ]
    }
   ],
   "source": [
    "# Using tab escape sequence to format the output\n",
    "print(\"Name\\t\\tAge\\tCountry\\tCity\")\n",
    "print(\"Asabeneh\\t250\\tFinland\\tHelsinki\")\n"
   ]
  },
  {
   "cell_type": "code",
   "execution_count": 8,
   "metadata": {},
   "outputs": [
    {
     "name": "stdout",
     "output_type": "stream",
     "text": [
      "The area of a circle with radius 10 is 314 meters square.\n"
     ]
    }
   ],
   "source": [
    "radius = 10\n",
    "area = 3.14 * radius ** 2\n",
    "\n",
    "# Using string formatting to display the message\n",
    "message = f\"The area of a circle with radius {radius} is {int(area)} meters square.\"\n",
    "print(message)"
   ]
  },
  {
   "cell_type": "code",
   "execution_count": 10,
   "metadata": {},
   "outputs": [
    {
     "name": "stdout",
     "output_type": "stream",
     "text": [
      "Weights in lbs: [250.0, 150.0]\n",
      "\n",
      "Weights in kgs: [113.4, 68.04]\n"
     ]
    }
   ],
   "source": [
    "# Converting pounds to kilograms\n",
    "lbs_to_kg = 0.453592\n",
    "\n",
    "# Read number of students from user\n",
    "N = int(input(\"Enter the number of students: \"))\n",
    "\n",
    "# Initialize an empty list to store weights in lbs\n",
    "weights_lbs = []\n",
    "\n",
    "# Read weights from the user\n",
    "for i in range(N):\n",
    "    weight = float(input(f\"Enter weight of student {i+1} in lbs: \"))\n",
    "    weights_lbs.append(weight)\n",
    "\n",
    "# Convert weights to kilograms\n",
    "weights_kgs = [round(weight * lbs_to_kg, 2) for weight in weights_lbs]\n",
    "\n",
    "# Print the results\n",
    "print(\"Weights in lbs:\", weights_lbs)\n",
    "print(\"\\nWeights in kgs:\", weights_kgs)"
   ]
  }
 ],
 "metadata": {
  "kernelspec": {
   "display_name": "Python 3 (ipykernel)",
   "language": "python",
   "name": "python3"
  },
  "language_info": {
   "codemirror_mode": {
    "name": "ipython",
    "version": 3
   },
   "file_extension": ".py",
   "mimetype": "text/x-python",
   "name": "python",
   "nbconvert_exporter": "python",
   "pygments_lexer": "ipython3",
   "version": "3.11.5"
  }
 },
 "nbformat": 4,
 "nbformat_minor": 2
}
